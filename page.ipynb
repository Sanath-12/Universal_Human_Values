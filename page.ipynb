{
  "nbformat": 4,
  "nbformat_minor": 0,
  "metadata": {
    "colab": {
      "provenance": []
    },
    "kernelspec": {
      "name": "python3",
      "display_name": "Python 3"
    },
    "language_info": {
      "name": "python"
    }
  },
  "cells": [
    {
      "cell_type": "code",
      "execution_count": null,
      "metadata": {
        "id": "v8f5f7oKooTN"
      },
      "outputs": [],
      "source": [
        "def FIFO(li,n1):\n",
        "  page=[0]*n1\n",
        "  miss = n1\n",
        "  hit=0\n",
        "  counter=0\n",
        "  page=li[0:3]\n",
        "  for i in li[3:]:\n",
        "    if i in page:\n",
        "      hit+=1\n",
        "    else:\n",
        "      miss+=1\n",
        "      if counter>2:\n",
        "        counter=0\n",
        "      page[counter]=i\n",
        "  print(f\"Number of PageFaults: {miss}\\nHit Ratio: {hit/(hit+miss)}\")\n",
        "\n"
      ]
    },
    {
      "cell_type": "code",
      "source": [
        "def LRU(l,n2):\n",
        "  page=[0]*n2\n",
        "  miss=n2\n",
        "  hit=0\n",
        "  lru=[]\n",
        "  for i in range(n2):\n",
        "    lru.append(n2-1-i)\n",
        "  page=l[0:4]\n",
        "  for i in l[4:]:\n",
        "    if i in page:\n",
        "      hit+=1\n",
        "      lru =list(map(lambda x: x + 1, lru))\n",
        "      lru[page.index(i)]=0\n",
        "    else:\n",
        "      miss+=1\n",
        "      least=lru.index(max(lru))\n",
        "      page[least]=i\n",
        "      lru =list(map(lambda x: x + 1, lru))\n",
        "      lru[least]=0\n",
        "  print(f\"Number of Page Faults: {miss}\\nHit: {hit}\")\n"
      ],
      "metadata": {
        "id": "W6CCfiaBplAF"
      },
      "execution_count": null,
      "outputs": []
    },
    {
      "cell_type": "code",
      "source": [
        "def Optimal(l,n2):\n",
        "  page=[0]*n2\n",
        "  miss=n2\n",
        "  hit=0\n",
        "  page=l[0:4]\n",
        "  counter=0\n",
        "  optimal=[0]*n2\n",
        "  for i in l[4:]:\n",
        "    ahead=l[n2+1+counter:]\n",
        "    if i in page:\n",
        "      hit+=1\n",
        "      counter+=1\n",
        "    else:\n",
        "      miss+=1\n",
        "      counter+=1\n",
        "      for j in range(n2):\n",
        "        if page[j] in ahead:\n",
        "          optimal[j]=ahead.index(page[j])\n",
        "        else:\n",
        "          page[j]=i\n",
        "          break\n",
        "        page[optimal.index(max(optimal))]\n",
        "  print(f\"Number of Page Faults: {miss}\\nHit: {hit}\")\n",
        "\n",
        "      \n",
        "\n"
      ],
      "metadata": {
        "id": "4cOE1a26yrye"
      },
      "execution_count": null,
      "outputs": []
    },
    {
      "cell_type": "code",
      "source": [
        "li = [1,3,0,3,5,6]\n",
        "n1=3\n",
        "FIFO(li,3)\n"
      ],
      "metadata": {
        "colab": {
          "base_uri": "https://localhost:8080/"
        },
        "id": "U_H9ETixouzb",
        "outputId": "eb03818e-c551-4e7c-b884-feb67a9673a5"
      },
      "execution_count": null,
      "outputs": [
        {
          "output_type": "stream",
          "name": "stdout",
          "text": [
            "Number of PageFaults: 5\n",
            "Hit Ratio: 0.16666666666666666\n"
          ]
        }
      ]
    },
    {
      "cell_type": "code",
      "source": [
        "l=[7,0,1,2,0,3,0,4,2,3,0,3,2]\n",
        "n2=4\n",
        "LRU(l,n2)"
      ],
      "metadata": {
        "colab": {
          "base_uri": "https://localhost:8080/"
        },
        "id": "kANL_phbv_h9",
        "outputId": "60b1ee94-7cdb-4613-a36b-57781d68d6d3"
      },
      "execution_count": null,
      "outputs": [
        {
          "output_type": "stream",
          "name": "stdout",
          "text": [
            "Number of Page Faults: 6\n",
            "Hit: 7\n"
          ]
        }
      ]
    },
    {
      "cell_type": "code",
      "source": [
        "Optimal(l,n2)"
      ],
      "metadata": {
        "colab": {
          "base_uri": "https://localhost:8080/"
        },
        "id": "wdR7GiOfylCL",
        "outputId": "fbf36477-1e89-498d-c440-48bed8955a2e"
      },
      "execution_count": null,
      "outputs": [
        {
          "output_type": "stream",
          "name": "stdout",
          "text": [
            "Number of Page Faults: 6\n",
            "Hit: 7\n"
          ]
        }
      ]
    }
  ]
}