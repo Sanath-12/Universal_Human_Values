{
  "nbformat": 4,
  "nbformat_minor": 0,
  "metadata": {
    "colab": {
      "provenance": []
    },
    "kernelspec": {
      "name": "python3",
      "display_name": "Python 3"
    },
    "language_info": {
      "name": "python"
    }
  },
  "cells": [
    {
      "cell_type": "code",
      "execution_count": null,
      "metadata": {
        "colab": {
          "base_uri": "https://localhost:8080/"
        },
        "id": "IH_15w_Rz06F",
        "outputId": "d857e0dd-2401-4702-b65d-159c6817ac4c"
      },
      "outputs": [
        {
          "output_type": "stream",
          "name": "stdout",
          "text": [
            "process no\tprocess size\tblock no\tblock size \t fragment size\n",
            "1\t\t212\t\t2\t\t500\t\t176\n",
            "2\t\t417\t\t5\t\t600\t\t183\n",
            "3\t\t112\t\t2\t\t500\t\t176\n",
            "4\t\t426\t\tNot Allocated\t-\t\t-\n",
            "process no\tprocess size\tblock no\tblock size \t fragment size\n",
            "1\t\t212\t\t5\t\t600\t\t276\n",
            "2\t\t417\t\t2\t\t500\t\t83\n",
            "3\t\t112\t\t5\t\t600\t\t276\n",
            "4\t\t426\t\tNot Allocated\t-\t\t-\n",
            "process no\tprocess size\tblock no\tblock size \t fragment size\n",
            "1\t\t212\t\t4\t\t300\t\t88\n",
            "2\t\t417\t\t2\t\t500\t\t83\n",
            "3\t\t112\t\t3\t\t200\t\t88\n",
            "4\t\t426\t\t5\t\t600\t\t174\n"
          ]
        }
      ],
      "source": [
        "block = [100,500,200,300,600]\n",
        "proc = [212,417,112,426]\n",
        "\n",
        "ff(block,proc)\n",
        "wf(block,proc)\n",
        "bf(block,proc)\n"
      ]
    },
    {
      "cell_type": "code",
      "source": [],
      "metadata": {
        "id": "-9K2j96uOzI1"
      },
      "execution_count": null,
      "outputs": []
    },
    {
      "cell_type": "code",
      "source": [
        "def ff(block,proc):\n",
        "  frag = block.copy()\n",
        "  occupy = [-1]*(len(proc))\n",
        "  for i in range(len(proc)):\n",
        "    for j  in range(len(frag)):\n",
        "      if frag[j]>= proc[i]:\n",
        "        occupy[i]=j\n",
        "        frag[j]=frag[j]-proc[i]\n",
        "        break\n",
        "  print(\"process no\\tprocess size\\tblock no\\tblock size \\t fragment size\")\n",
        "  for i in range(len(proc)):\n",
        "    if occupy[i]==-1:\n",
        "      print(f\"{i+1}\\t\\t{proc[i]}\\t\\tNot Allocated\\t-\\t\\t-\")\n",
        "    else:\n",
        "      print(f\"{i+1}\\t\\t{proc[i]}\\t\\t{occupy[i]+1}\\t\\t{block[occupy[i]]}\\t\\t{frag[occupy[i]]}\")\n",
        "  \n",
        "\n"
      ],
      "metadata": {
        "id": "CYLHKgr-Gb04"
      },
      "execution_count": null,
      "outputs": []
    },
    {
      "cell_type": "code",
      "source": [
        "def wf(block,proc):\n",
        "  frag = block.copy()\n",
        "  occupy = [-1]*len(proc)\n",
        "  for i in range(len(proc)):\n",
        "    index = -1\n",
        "    for j in range(len(frag)):\n",
        "      if frag[j]>= proc[i]:\n",
        "        if index==-1 or frag[index] < frag[j]:\n",
        "          index = j\n",
        "    if index != -1:\n",
        "      occupy[i] = index\n",
        "      frag[index] = frag[index] - proc[i]\n",
        "  print(\"process no\\tprocess size\\tblock no\\tblock size \\t fragment size\")\n",
        "  for i in range(len(proc)):\n",
        "    if occupy[i]==-1:\n",
        "      print(f\"{i+1}\\t\\t{proc[i]}\\t\\tNot Allocated\\t-\\t\\t-\")\n",
        "    else:\n",
        "      print(f\"{i+1}\\t\\t{proc[i]}\\t\\t{occupy[i]+1}\\t\\t{block[occupy[i]]}\\t\\t{frag[occupy[i]]}\")\n",
        "  "
      ],
      "metadata": {
        "id": "dwUtxgc8GsbZ"
      },
      "execution_count": null,
      "outputs": []
    },
    {
      "cell_type": "code",
      "source": [
        "def bf(block,proc):\n",
        "  frag = block.copy()\n",
        "  occupy = [-1]*len(proc)\n",
        "  for i in range(len(proc)):\n",
        "    index = -1\n",
        "    for j in range(len(frag)):\n",
        "      if frag[j]>= proc[i]:\n",
        "        if index==-1 or frag[index] > frag[j]:\n",
        "          index = j\n",
        "    if index != -1:\n",
        "      occupy[i] = index\n",
        "      frag[index] = frag[index] - proc[i]\n",
        "  print(\"process no\\tprocess size\\tblock no\\tblock size \\t fragment size\")\n",
        "  for i in range(len(proc)):\n",
        "    if occupy[i]==-1:\n",
        "      print(f\"{i+1}\\t\\t{proc[i]}\\t\\tNot Allocated\\t-\\t\\t-\")\n",
        "    else:\n",
        "      print(f\"{i+1}\\t\\t{proc[i]}\\t\\t{occupy[i]+1}\\t\\t{block[occupy[i]]}\\t\\t{frag[occupy[i]]}\")"
      ],
      "metadata": {
        "id": "WqKj-u4sSV8L"
      },
      "execution_count": null,
      "outputs": []
    }
  ]
}