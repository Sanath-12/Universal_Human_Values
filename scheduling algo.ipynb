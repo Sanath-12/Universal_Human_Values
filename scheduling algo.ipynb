{
  "nbformat": 4,
  "nbformat_minor": 0,
  "metadata": {
    "colab": {
      "provenance": []
    },
    "kernelspec": {
      "name": "python3",
      "display_name": "Python 3"
    },
    "language_info": {
      "name": "python"
    }
  },
  "cells": [
    {
      "cell_type": "markdown",
      "source": [
        "TAT = CT-AT\n",
        "\n",
        "WT = TAT-BT\n",
        "\n",
        "TAT Turn around time\n",
        "\n",
        "CT Completion time\n",
        "\n",
        "AT Arrival time\n",
        "\n",
        "BT Burst time"
      ],
      "metadata": {
        "id": "Zg0eB3uCyB4j"
      }
    },
    {
      "cell_type": "markdown",
      "source": [
        "# FCFS"
      ],
      "metadata": {
        "id": "yuPy7C4_5CsX"
      }
    },
    {
      "cell_type": "code",
      "source": [
        "import numpy as np\n",
        "\n",
        "process = []\n",
        "arrivalT = []\n",
        "burstT = []\n",
        "completionT = []\n",
        "turnaroundT = []\n",
        "waitingT = []\n",
        "\n",
        "n = int(input(\"Enter the no. of process: \"))\n",
        "\n",
        "for i in range(n):\n",
        "  process.append('P'+ str(i+1))\n",
        "  arrivalT.append(int(input(\"Arrival time of %d process: \"%(i+1))))\n",
        "\n",
        "for i in range(n):\n",
        "  burstT.append(int(input(\"Burst time of %d process: \"%(i+1))))\n",
        "\n",
        "for i in range(n-1):\n",
        "  for j in range(n-1-i):\n",
        "    if(arrivalT[j]>arrivalT[j+1]):\n",
        "      process[j], process[j+1] = process[j+1], process[j]\n",
        "      arrivalT[j], arrivalT[j+1] = arrivalT[j+1], arrivalT[j]\n",
        "      burstT[j], burstT[j+1] = burstT[j+1], burstT[j]\n",
        "\n",
        "completionT.append(arrivalT[0]+burstT[0])\n",
        "for i in range(1, n):\n",
        "  completionT.append(completionT[i-1]+burstT[i])\n",
        "\n",
        "for i in range(n):\n",
        "  turnaroundT.append(completionT[i]-arrivalT[i])\n",
        "\n",
        "for i in range(n):\n",
        "  waitingT.append(turnaroundT[i]-burstT[i])\n",
        "\n",
        "print(\"_________________________________________________________\")\n",
        "print('P\\t', 'AT\\t', 'BT\\t' , 'CT\\t', 'TAT\\t', 'WT\\t')\n",
        "print('-------------------------------------------------')\n",
        "for i in range(n):\n",
        "  print(process[i], '\\t', arrivalT[i], '\\t', burstT[i], '\\t', completionT[i], '\\t', turnaroundT[i], '\\t', waitingT[i])\n",
        "\n",
        "print(\"_________________________________________________________\")\n",
        "print('Gant Chart')\n",
        "\n",
        "print(arrivalT[0], end =\" \")\n",
        "for i in range(n):\n",
        "  print('-->', process[i], '-->', completionT[i], end =\" \")\n",
        "print()\n",
        "print(\"_________________________________________________________\")\n",
        "print('Average Turn Around Time: ', sum(turnaroundT)/n)\n",
        "print('Average Waiting Time: ', sum(waitingT)/n)\n",
        "\n",
        "if(arrivalT[0]>0):\n",
        "  for j in range(arrivalT[0]-0):\n",
        "    print('Idle time: ', j , '-', 1+j)\n",
        "for i in range(1, n):\n",
        "  if(arrivalT[i]>completionT[i-1]):\n",
        "    for j in range(arrivalT[i]-completionT[i-1]):\n",
        "      print('Idle time: ', completionT[i-1]+j , '-', completionT[i-1]+j+1 )"
      ],
      "metadata": {
        "id": "3aO3SlolekJK",
        "colab": {
          "base_uri": "https://localhost:8080/"
        },
        "outputId": "3c3ac92e-0375-4a05-fc71-edd70bb17d68"
      },
      "execution_count": null,
      "outputs": [
        {
          "output_type": "stream",
          "name": "stdout",
          "text": [
            "Enter the no. of process: 6\n",
            "Arrival time of 1 process: 0\n",
            "Arrival time of 2 process: 0\n",
            "Arrival time of 3 process: 0\n",
            "Arrival time of 4 process: 0\n",
            "Arrival time of 5 process: 0\n",
            "Arrival time of 6 process: 0\n",
            "Burst time of 1 process: 7\n",
            "Burst time of 2 process: 5\n",
            "Burst time of 3 process: 3\n",
            "Burst time of 4 process: 1\n",
            "Burst time of 5 process: 2\n",
            "Burst time of 6 process: 1\n",
            "_________________________________________________________\n",
            "P\t AT\t BT\t CT\t TAT\t WT\t\n",
            "-------------------------------------------------\n",
            "P1 \t 0 \t 7 \t 7 \t 7 \t 0\n",
            "P2 \t 0 \t 5 \t 12 \t 12 \t 7\n",
            "P3 \t 0 \t 3 \t 15 \t 15 \t 12\n",
            "P4 \t 0 \t 1 \t 16 \t 16 \t 15\n",
            "P5 \t 0 \t 2 \t 18 \t 18 \t 16\n",
            "P6 \t 0 \t 1 \t 19 \t 19 \t 18\n",
            "_________________________________________________________\n",
            "Gant Chart\n",
            "0 --> P1 --> 7 --> P2 --> 12 --> P3 --> 15 --> P4 --> 16 --> P5 --> 18 --> P6 --> 19 \n",
            "_________________________________________________________\n",
            "Average Turn Around Time:  14.5\n",
            "Average Waiting Time:  11.333333333333334\n"
          ]
        }
      ]
    },
    {
      "cell_type": "markdown",
      "source": [
        "# SJF"
      ],
      "metadata": {
        "id": "SHlzN19z5LEK"
      }
    },
    {
      "cell_type": "code",
      "source": [
        "import numpy as np\n",
        "\n",
        "process = []\n",
        "priority = []\n",
        "arrivalT = []\n",
        "burstT = []\n",
        "completionT = []\n",
        "turnaroundT = []\n",
        "waitingT = []\n",
        "\n",
        "n = int(input(\"Enter the no. of process: \"))\n",
        "\n",
        "for i in range(n):\n",
        "  process.append('P'+ str(i+1))\n",
        "\n",
        "for i in range(n):\n",
        "  arrivalT.append(int(input(\"Arrival time: \")))\n",
        "\n",
        "for i in range(n):\n",
        "  burstT.append(int(input(\"Burst time: \")))\n",
        "\n",
        "for i in range(n):\n",
        "  priority.append(int(input(\"Priority of %d process: \"%(i+1))))\n",
        "\n",
        "for i in range(n-1):\n",
        "  for j in range(n-1-i):\n",
        "    if(burstT[j]>burstT[j+1]):\n",
        "      process[j], process[j+1] = process[j+1], process[j]\n",
        "      arrivalT[j], arrivalT[j+1] = arrivalT[j+1], arrivalT[j]\n",
        "      burstT[j], burstT[j+1] = burstT[j+1], burstT[j]\n",
        "      priority[j], priority[j+1] = priority[j+1], priority[j]\n",
        "\n",
        "completionT.append(arrivalT[0]+burstT[0])\n",
        "for i in range(1, n):\n",
        "  completionT.append(completionT[i-1]+burstT[i])\n",
        "\n",
        "for i in range(n):\n",
        "  turnaroundT.append(completionT[i]-arrivalT[i])\n",
        "\n",
        "for i in range(n):\n",
        "  waitingT.append(turnaroundT[i]-burstT[i])\n",
        "\n",
        "print(\"_____________________________________________________________\")\n",
        "print('P\\t', 'AT\\t', 'BT\\t' , 'CT\\t', 'TAT\\t', 'WT\\t', 'Priority')\n",
        "print('---------------------------------------------------------')\n",
        "for i in range(n):\n",
        "  print(process[i], '\\t', arrivalT[i], '\\t', burstT[i], '\\t', completionT[i], '\\t', turnaroundT[i], '\\t', waitingT[i], '\\t', priority[i])\n",
        "\n",
        "print(\"_____________________________________________________________\")\n",
        "print('Gant Chart')\n",
        "print(arrivalT[0], end =\" \")\n",
        "for i in range(n):\n",
        "  print('-->', process[i], '-->', completionT[i], end =\" \")\n",
        "print()\n",
        "print(\"_____________________________________________________________\")\n",
        "print('Average Turn Around Time: ', sum(turnaroundT)/n)\n",
        "print('Average Waiting Time: ', sum(waitingT)/n)\n",
        "\n",
        "if(arrivalT[0]>0):\n",
        "  for j in range(arrivalT[0]-0):\n",
        "    print('Idle time: ', j , '-', 1+j)\n",
        "for i in range(1, n):\n",
        "  if(arrivalT[i]>completionT[i-1]):\n",
        "    for j in range(arrivalT[i]-completionT[i-1]):\n",
        "      print('Idle time: ', completionT[i-1]+j , '-', completionT[i-1]+j+1 )"
      ],
      "metadata": {
        "colab": {
          "base_uri": "https://localhost:8080/"
        },
        "id": "h-C8usgZpL4H",
        "outputId": "013f49d5-cf72-439e-b2f4-a9a8be1467dd"
      },
      "execution_count": null,
      "outputs": [
        {
          "output_type": "stream",
          "name": "stdout",
          "text": [
            "Enter the no. of process: 3\n",
            "Arrival time: 0\n",
            "Arrival time: 0\n",
            "Arrival time: 0\n",
            "Burst time: 9\n",
            "Burst time: 4\n",
            "Burst time: 9\n",
            "Priority of 1 process: 2\n",
            "Priority of 2 process: 1\n",
            "Priority of 3 process: 3\n",
            "_____________________________________________________________\n",
            "P\t AT\t BT\t CT\t TAT\t WT\t Priority\n",
            "---------------------------------------------------------\n",
            "P2 \t 0 \t 4 \t 4 \t 4 \t 0 \t 1\n",
            "P1 \t 0 \t 9 \t 13 \t 13 \t 4 \t 2\n",
            "P3 \t 0 \t 9 \t 22 \t 22 \t 13 \t 3\n",
            "_____________________________________________________________\n",
            "Gant Chart\n",
            "0 --> P2 --> 4 --> P1 --> 13 --> P3 --> 22 \n",
            "_____________________________________________________________\n",
            "Average Turn Around Time:  13.0\n",
            "Average Waiting Time:  5.666666666666667\n"
          ]
        }
      ]
    },
    {
      "cell_type": "markdown",
      "source": [
        "# priority"
      ],
      "metadata": {
        "id": "mcmTxAji5VX-"
      }
    },
    {
      "cell_type": "code",
      "source": [
        "import numpy as np\n",
        "\n",
        "process = []\n",
        "priority = []\n",
        "arrivalT = []\n",
        "burstT = []\n",
        "completionT = []\n",
        "turnaroundT = []\n",
        "waitingT = []\n",
        "\n",
        "n = int(input(\"Enter the no. of process: \"))\n",
        "\n",
        "for i in range(n):\n",
        "  process.append('P'+ str(i+1))\n",
        "\n",
        "for i in range(n):\n",
        "  arrivalT.append(int(input(\"Arrival Time of %d process: \"%(i+1))))\n",
        "\n",
        "for i in range(n):\n",
        "  burstT.append(int(input(\"Burst time of %d process: \"%(i+1))))\n",
        "\n",
        "for i in range(n):\n",
        "  priority.append(int(input(\"Priority of %d process: \"%(i+1))))\n",
        "\n",
        "for i in range(n-1):\n",
        "  for j in range(n-1-i):\n",
        "    if(priority[j]>priority[j+1]):\n",
        "      process[j], process[j+1] = process[j+1], process[j]\n",
        "      priority[j], priority[j+1] = priority[j+1], priority[j]\n",
        "      burstT[j], burstT[j+1] = burstT[j+1], burstT[j]\n",
        "      arrivalT[j], arrivalT[j+1] = arrivalT[j+1], arrivalT[j]\n",
        "\n",
        "completionT.append(arrivalT[0]+burstT[0])\n",
        "for i in range(1, n):\n",
        "  completionT.append(completionT[i-1]+burstT[i])\n",
        "\n",
        "for i in range(n):\n",
        "  turnaroundT.append(completionT[i]-arrivalT[i])\n",
        "\n",
        "for i in range(n):\n",
        "  waitingT.append(turnaroundT[i]-burstT[i])\n",
        "\n",
        "\n",
        "print(\"_____________________________________________________________\")\n",
        "print('P\\t', 'AT\\t', 'BT\\t' , 'CT\\t', 'TAT\\t', 'WT\\t', 'Priority')\n",
        "print('---------------------------------------------------------')\n",
        "for i in range(n):\n",
        "  print(process[i], '\\t', arrivalT[i], '\\t', burstT[i], '\\t', completionT[i], '\\t', turnaroundT[i], '\\t', waitingT[i], '\\t', priority[i])\n",
        "\n",
        "print(\"_____________________________________________________________\")\n",
        "print('Gant Chart')\n",
        "print(arrivalT[0], end =\" \")\n",
        "for i in range(n):\n",
        "  print('-->', process[i], '-->', completionT[i], end =\" \")\n",
        "print()\n",
        "print(\"_____________________________________________________________\")\n",
        "print('Average Turn Around Time: ', sum(turnaroundT)/n)\n",
        "print('Average Waiting Time: ', sum(waitingT)/n)\n",
        "\n",
        "if(arrivalT[0]>0):\n",
        "  for j in range(arrivalT[0]-0):\n",
        "    print('Idle time: ', j , '-', 1+j)\n",
        "for i in range(1, n):\n",
        "  if(arrivalT[i]>completionT[i-1]):\n",
        "    for j in range(arrivalT[i]-completionT[i-1]):\n",
        "      print('Idle time: ', completionT[i-1]+j , '-', completionT[i-1]+j+1 )"
      ],
      "metadata": {
        "colab": {
          "base_uri": "https://localhost:8080/"
        },
        "id": "_lygWdmkpJN7",
        "outputId": "189b15f1-5d42-4c57-95c5-38c0b0a19020"
      },
      "execution_count": null,
      "outputs": [
        {
          "output_type": "stream",
          "name": "stdout",
          "text": [
            "Enter the no. of process: 3\n",
            "Arrival Time of 1 process: 0\n",
            "Arrival Time of 2 process: 0\n",
            "Arrival Time of 3 process: 0\n",
            "Burst time of 1 process: 9\n",
            "Burst time of 2 process: 4\n",
            "Burst time of 3 process: 9\n",
            "Priority of 1 process: 2\n",
            "Priority of 2 process: 1\n",
            "Priority of 3 process: 3\n",
            "P\t AT\t BT\t CT\t TAT\t WT\t Priority\n",
            "---------------------------------------------------------\n",
            "P2 \t 0 \t 4 \t 4 \t 4 \t 0 \t 1\n",
            "P1 \t 0 \t 9 \t 13 \t 13 \t 4 \t 2\n",
            "P3 \t 0 \t 9 \t 22 \t 22 \t 13 \t 3\n",
            "0 --> P2 --> 4 --> P1 --> 13 --> P3 --> 22 \n",
            "Average Turn Around Time:  13.0\n",
            "Average Waiting Time:  5.666666666666667\n"
          ]
        }
      ]
    },
    {
      "cell_type": "code",
      "source": [],
      "metadata": {
        "id": "5PqHuqYOpH-e"
      },
      "execution_count": null,
      "outputs": []
    }
  ]
}